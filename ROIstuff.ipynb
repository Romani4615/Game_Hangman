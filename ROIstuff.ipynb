{
 "cells": [
  {
   "cell_type": "code",
   "execution_count": 33,
   "id": "14b26d86",
   "metadata": {
    "scrolled": true
   },
   "outputs": [
    {
     "name": "stdout",
     "output_type": "stream",
     "text": [
      "please enter monthly the $ cost of your Repairs 6\n",
      "please enter the monthly $ cost of your Tax 6\n",
      "please enter the monthly $ cost of your Cash expenses 6\n",
      "please enter the monthly $ cost of your Property Manager 6\n",
      "please enter the monthly $ cost of your Vacancy expenses 6\n",
      "please enter the monthly $ cost of your Mortgage expenses 56\n",
      "[6.0, 6.0, 6.0, 6.0, 6.0, 56.0]\n",
      "total expenses:$ 86.0\n"
     ]
    }
   ],
   "source": [
    "expenses = []\n",
    "repairs = float(input('please enter monthly the $ cost of your Repairs '))\n",
    "expenses.append(repairs)\n",
    "tax = float(input('please enter the monthly $ cost of your Tax '))\n",
    "expenses.append(tax)\n",
    "cashex = float(input('please enter the monthly $ cost of your Cash expenses '))\n",
    "expenses.append(cashex)\n",
    "manager = float(input('please enter the monthly $ cost of your Property Manager '))\n",
    "expenses.append(manager)\n",
    "vacancy = float(input('please enter the monthly $ cost of your Vacancy expenses '))\n",
    "expenses.append(vacancy)\n",
    "mortgage = float(input('please enter the monthly $ cost of your Mortgage expenses '))\n",
    "expenses.append(mortgage)\n",
    "print(expenses)\n",
    "print('total expenses:$',sum(expenses))\n"
   ]
  },
  {
   "cell_type": "code",
   "execution_count": 30,
   "id": "90a508e3",
   "metadata": {},
   "outputs": [
    {
     "name": "stdout",
     "output_type": "stream",
     "text": [
      "please enter monthly the $ cost of your Repairs 3\n",
      "please enter the monthly $ cost of your Tax 4\n",
      "please enter the monthly $ cost of your Cash expenses 5\n",
      "please enter the monthly $ cost of your Property Manager 76\n",
      "{'repairs': [3.0], 'tax': [4.0], 'cashex': [5.0], 'manager': [76.0]}\n"
     ]
    },
    {
     "ename": "KeyError",
     "evalue": "3.0",
     "output_type": "error",
     "traceback": [
      "\u001b[0;31m---------------------------------------------------------------------------\u001b[0m",
      "\u001b[0;31mKeyError\u001b[0m                                  Traceback (most recent call last)",
      "\u001b[0;32m<ipython-input-30-86130d6ae043>\u001b[0m in \u001b[0;36m<module>\u001b[0;34m\u001b[0m\n\u001b[1;32m     11\u001b[0m \u001b[0;34m\u001b[0m\u001b[0m\n\u001b[1;32m     12\u001b[0m \u001b[0;34m\u001b[0m\u001b[0m\n\u001b[0;32m---> 13\u001b[0;31m \u001b[0mfinal\u001b[0m \u001b[0;34m=\u001b[0m \u001b[0mint\u001b[0m\u001b[0;34m(\u001b[0m\u001b[0mmy_dict\u001b[0m\u001b[0;34m[\u001b[0m\u001b[0mrepairs\u001b[0m\u001b[0;34m]\u001b[0m\u001b[0;34m)\u001b[0m \u001b[0;34m+\u001b[0m \u001b[0mint\u001b[0m\u001b[0;34m(\u001b[0m\u001b[0mmy_dict\u001b[0m\u001b[0;34m[\u001b[0m\u001b[0mtax\u001b[0m\u001b[0;34m]\u001b[0m\u001b[0;34m)\u001b[0m \u001b[0;34m+\u001b[0m \u001b[0mint\u001b[0m\u001b[0;34m(\u001b[0m\u001b[0mmy_dict\u001b[0m\u001b[0;34m[\u001b[0m\u001b[0mcashex\u001b[0m\u001b[0;34m]\u001b[0m\u001b[0;34m)\u001b[0m \u001b[0;34m+\u001b[0m \u001b[0mint\u001b[0m\u001b[0;34m(\u001b[0m\u001b[0mmy_dict\u001b[0m\u001b[0;34m[\u001b[0m\u001b[0mmanager\u001b[0m\u001b[0;34m]\u001b[0m\u001b[0;34m)\u001b[0m\u001b[0;34m\u001b[0m\u001b[0;34m\u001b[0m\u001b[0m\n\u001b[0m\u001b[1;32m     14\u001b[0m \u001b[0mprint\u001b[0m\u001b[0;34m(\u001b[0m\u001b[0mfinal\u001b[0m\u001b[0;34m)\u001b[0m\u001b[0;34m\u001b[0m\u001b[0;34m\u001b[0m\u001b[0m\n",
      "\u001b[0;31mKeyError\u001b[0m: 3.0"
     ]
    }
   ],
   "source": [
    "my_dict = {\"repairs\":[],\"tax\":[],\"cashex\":[], \"manager\":[], };\n",
    "repairs = float(input('please enter monthly the $ cost of your Repairs '))\n",
    "my_dict[\"repairs\"].append(repairs)\n",
    "tax = float(input('please enter the monthly $ cost of your Tax '))\n",
    "my_dict[\"tax\"].append(tax)\n",
    "cashex = float(input('please enter the monthly $ cost of your Cash expenses '))\n",
    "my_dict[\"cashex\"].append(cashex)\n",
    "manager = float(input('please enter the monthly $ cost of your Property Manager '))\n",
    "my_dict[\"manager\"].append(manager)\n",
    "print(my_dict)\n",
    "\n",
    "\n",
    "final = float(my_dict[\"repairs\"]) + float(my_dict[\"tax\"]) + float(my_dict[\"cashex\"]) + float(my_dict[\"manager\"])\n",
    "print(final)\n"
   ]
  },
  {
   "cell_type": "markdown",
   "id": "65b984d4",
   "metadata": {},
   "source": [
    "6\n",
    "7##### 56\n",
    "6\n",
    "#### 34#### values = a_dict. values() Return values of a dictionary.\n",
    "total = sum(values) Compute sum of the values.\n",
    "print(total)"
   ]
  },
  {
   "cell_type": "code",
   "execution_count": 22,
   "id": "34c45452",
   "metadata": {},
   "outputs": [
    {
     "ename": "SyntaxError",
     "evalue": "cannot assign to function call (<ipython-input-22-cdf3685a4b1d>, line 2)",
     "output_type": "error",
     "traceback": [
      "\u001b[0;36m  File \u001b[0;32m\"<ipython-input-22-cdf3685a4b1d>\"\u001b[0;36m, line \u001b[0;32m2\u001b[0m\n\u001b[0;31m    mydict(repairs) = float(input('please enter monthly the $ cost of your Repairs '))\u001b[0m\n\u001b[0m    ^\u001b[0m\n\u001b[0;31mSyntaxError\u001b[0m\u001b[0;31m:\u001b[0m cannot assign to function call\n"
     ]
    }
   ],
   "source": [
    "mydict = {}\n",
    "mydict(repairs) = float(input('please enter monthly the $ cost of your Repairs '))\n",
    "print(mydict)\n",
    "expenses = {\n",
    "    'manager' : 100,\n",
    "    'repairs' : 80,\n",
    "}\n",
    "final = int(expenses['repairs']) + int(expenses['manager'])\n",
    "print(final)"
   ]
  },
  {
   "cell_type": "code",
   "execution_count": null,
   "id": "63c256db",
   "metadata": {},
   "outputs": [],
   "source": [
    "my_dict = {\"repairs\":[],\"tax\":[],\"cashex\":[], \"manager\":[], };\n",
    "repairs = float(input('please enter monthly the $ cost of your Repairs '))\n",
    "my_dict[\"repairs\"].append(repairs)\n",
    "tax = float(input('please enter the monthly $ cost of your Tax '))\n",
    "my_dict[\"tax\"].append(tax)\n",
    "cashex = float(input('please enter the monthly $ cost of your Cash expenses '))\n",
    "my_dict[\"cashex\"].append(cashex)\n",
    "manager = float(input('please enter the monthly $ cost of your Property Manager '))\n",
    "my_dict[\"manager\"].append(manager)\n",
    "print(my_dict)"
   ]
  },
  {
   "cell_type": "code",
   "execution_count": null,
   "id": "34862eab",
   "metadata": {},
   "outputs": [],
   "source": []
  },
  {
   "cell_type": "code",
   "execution_count": null,
   "id": "b2ad2e5d",
   "metadata": {},
   "outputs": [],
   "source": []
  }
 ],
 "metadata": {
  "kernelspec": {
   "display_name": "Python 3",
   "language": "python",
   "name": "python3"
  },
  "language_info": {
   "codemirror_mode": {
    "name": "ipython",
    "version": 3
   },
   "file_extension": ".py",
   "mimetype": "text/x-python",
   "name": "python",
   "nbconvert_exporter": "python",
   "pygments_lexer": "ipython3",
   "version": "3.8.8"
  }
 },
 "nbformat": 4,
 "nbformat_minor": 5
}
