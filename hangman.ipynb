{
 "cells": [
  {
   "cell_type": "code",
   "execution_count": 1,
   "id": "04831c18",
   "metadata": {},
   "outputs": [
    {
     "name": "stdout",
     "output_type": "stream",
     "text": [
      "range(2, 100)\n"
     ]
    }
   ],
   "source": [
    "x = range(2,100)\n",
    "print(x)"
   ]
  },
  {
   "cell_type": "code",
   "execution_count": 4,
   "id": "c90b50ca",
   "metadata": {},
   "outputs": [
    {
     "name": "stdout",
     "output_type": "stream",
     "text": [
      "this is the current value of x\n",
      "10\n",
      "this is the current value of x\n",
      "35\n",
      "this is the current value of x\n",
      "60\n",
      "this is the current value of x\n",
      "85\n"
     ]
    }
   ],
   "source": [
    "\n",
    "for x in range(10, 85+1, 25):\n",
    "    print('this is the current value of x')\n",
    "    print(str(x))     "
   ]
  },
  {
   "cell_type": "code",
   "execution_count": 13,
   "id": "090353ab",
   "metadata": {},
   "outputs": [
    {
     "name": "stdout",
     "output_type": "stream",
     "text": [
      "my nombre is not: ben\n",
      "actually, fuck you ben\n",
      "my nombre is not: sam\n",
      "actually, fuck you sam\n",
      "my nombre is not: bob,\n",
      "actually, fuck you bob,\n",
      "my nombre is not: quincy\n",
      "actually, fuck you quincy\n"
     ]
    }
   ],
   "source": [
    "names = ['ben','sam',\"bob,\",'quincy']\n",
    "for name in names:\n",
    "    print(f'my nombre is not: {name}')\n",
    "    print(f'actually, fuck you {name}')"
   ]
  },
  {
   "cell_type": "code",
   "execution_count": null,
   "id": "7a18ac41",
   "metadata": {},
   "outputs": [],
   "source": [
    "for x in range(0,10):\n",
    "    print(f'value of {x}')\n",
    "    ans = input(\"press y then enter to end\")\n",
    "    if ans == 'y':\n",
    "        break\n",
    "    \n",
    "    if x == 5:\n",
    "        break\n",
    "print('This is the end of me loop')\n",
    "\n"
   ]
  },
  {
   "cell_type": "code",
   "execution_count": 22,
   "id": "c92db0aa",
   "metadata": {},
   "outputs": [
    {
     "name": "stdout",
     "output_type": "stream",
     "text": [
      "value of 10\n",
      "press y then enter to endl\n",
      "value of 11\n",
      "press y then enter to endl\n",
      "value of 12\n",
      "press y then enter to endl\n",
      "value of 13\n",
      "press y then enter to endl\n",
      "value of 14\n",
      "press y then enter to endl\n",
      "whole loop ran\n",
      "EOC\n"
     ]
    }
   ],
   "source": [
    "x = 10\n",
    "y = 15\n",
    "while x < y:\n",
    "    print(f'value of {x}')\n",
    "    ans = input(\"press y then enter to end\")\n",
    "    if ans == 'y':\n",
    "        break\n",
    "\n",
    "\n",
    "    x += 1\n",
    "\n",
    "else:\n",
    "    print('whole loop ran')\n",
    "    \n",
    "print(\"EOC\")"
   ]
  },
  {
   "cell_type": "code",
   "execution_count": 30,
   "id": "0b0ae986",
   "metadata": {},
   "outputs": [
    {
     "name": "stdout",
     "output_type": "stream",
     "text": [
      "Enter a lettera\n",
      "CORRECT!!!\n",
      "_a__a______Enter a letterm\n",
      "incorrect there is no m bitch you now have 6 guesses left\n",
      "_a__a______Enter a letterp\n",
      "CORRECT!!!\n",
      "pa_pa______Enter a lettery\n",
      "CORRECT!!!\n",
      "paypay_____Enter a lettery\n",
      "CORRECT!!!\n",
      "paypay_____Enter a letterb\n",
      "incorrect there is no b bitch you now have 5 guesses left\n",
      "paypay_____Enter a lettere\n",
      "CORRECT!!!\n",
      "paypay____eEnter a lettero\n",
      "incorrect there is no o bitch you now have 4 guesses left\n",
      "paypay____eEnter a letterr\n",
      "incorrect there is no r bitch you now have 3 guesses left\n",
      "paypay____eEnter a letterl\n",
      "incorrect there is no l bitch you now have 2 guesses left\n",
      "paypay____eEnter a lettert\n",
      "CORRECT!!!\n",
      "paypay__t_eEnter a lettern\n",
      "incorrect there is no n bitch you now have 1 guesses left\n",
      "paypay__t_eEnter a letterc\n",
      "CORRECT!!!\n",
      "paypayc_t_eEnter a letteru\n",
      "CORRECT!!!\n",
      "paypaycut_eEnter a letteri\n",
      "CORRECT!!!\n",
      "paypaycutieyou win my dud\n"
     ]
    }
   ],
   "source": [
    "#word trying to guess\n",
    "secretword = \"paypaycutie\".lower()\n",
    "guessed = \"\"\n",
    "failurecount = 7\n",
    "\n",
    "#loop till player fails out\n",
    "#will break if succeeded\n",
    "while failurecount > 0:\n",
    "    #get guess input from player\n",
    "    guess = input('Enter a letter')\n",
    "    \n",
    "    if guess in secretword:\n",
    "        print('CORRECT!!!')\n",
    "   #if incorrect, subtract a letter from the failure count     \n",
    "    else:\n",
    "        failurecount -= 1\n",
    "        print(f'incorrect there is no {guess} bitch you now have {failurecount} guesses left')\n",
    "    #maintain a list of all letters guessed\n",
    "    guessed = guessed + guess\n",
    "    wronglettercount = 0\n",
    "    for letter in secretword:\n",
    "        if letter in guessed:\n",
    "            print(f'{letter}', end=\"\")\n",
    "        else:\n",
    "            print(\"_\", end=\"\")\n",
    "            wronglettercount += 1\n",
    "            \n",
    "    #if there's no wrong letters, then they win!!!\n",
    "    if wronglettercount == 0:\n",
    "        print(\"you win my dud\")\n",
    "        break\n",
    "    \n",
    "else:\n",
    "    print('sry loser')\n"
   ]
  },
  {
   "cell_type": "code",
   "execution_count": 43,
   "id": "b7d620b0",
   "metadata": {},
   "outputs": [
    {
     "name": "stdout",
     "output_type": "stream",
     "text": [
      "4481040240\n",
      "4481007792\n",
      "4481007792\n"
     ]
    }
   ],
   "source": [
    "myname = 'aaron'\n",
    "\n",
    "#print(myname[1])\n",
    "print(id(myname))\n",
    "#myname[2] = 'q'\n",
    "\n",
    "myname = 'bobby'\n",
    "print(id(myname))\n",
    "\n",
    "name2 = 'bobby'\n",
    "print(id(name2))\n",
    "    \n"
   ]
  },
  {
   "cell_type": "code",
   "execution_count": 45,
   "id": "8113f083",
   "metadata": {},
   "outputs": [
    {
     "name": "stdout",
     "output_type": "stream",
     "text": [
      "aaron \"the man\" romani\n"
     ]
    }
   ],
   "source": [
    "var1 = 'aar\\on \"the man\" romani'\n",
    "print(var1)"
   ]
  },
  {
   "cell_type": "code",
   "execution_count": 58,
   "id": "78df4fba",
   "metadata": {},
   "outputs": [
    {
     "name": "stdout",
     "output_type": "stream",
     "text": [
      "aaron romani\n",
      "aaronaaronaaron\n",
      "n\n",
      "aaro\n",
      "it's there\n"
     ]
    }
   ],
   "source": [
    "name1 = 'aaron'\n",
    "name2 = 'romani'\n",
    "value = name1 + ' ' + name2\n",
    "print(value)\n",
    "\n",
    "value = name1 * 3\n",
    "print(value)\n",
    "\n",
    "value = name1[4]\n",
    "print(value)\n",
    "\n",
    "value = name1[0:4]\n",
    "print(value)\n",
    "if 'ar' in name1:\n",
    "    print(\"it's there\")\n",
    "if 'qs' in name1:\n",
    "    print('naaa')name1"
   ]
  },
  {
   "cell_type": "code",
   "execution_count": 64,
   "id": "fc6209b8",
   "metadata": {},
   "outputs": [
    {
     "name": "stdout",
     "output_type": "stream",
     "text": [
      "AARON IS A SEXY BEAST\n",
      "aaron is a sexy beast\n",
      "Aaron is a sexy beast\n",
      "['aaron', 'is', 'a', 'sexy', 'beast']\n",
      "a\n",
      "21\n"
     ]
    }
   ],
   "source": [
    "name1 = 'aaron is a sexy beast'\n",
    "print(name1.upper())\n",
    "print(name1.lower())\n",
    "print(name1.capitalize())\n",
    "value = name1.split()\n",
    "print(value)\n",
    "print(value[2])\n",
    "print(len(name1))"
   ]
  },
  {
   "cell_type": "code",
   "execution_count": 72,
   "id": "93fa25c1",
   "metadata": {},
   "outputs": [
    {
     "name": "stdout",
     "output_type": "stream",
     "text": [
      "['ben', 'sami', 'paypay', 'mrah']\n",
      "sami\n",
      "ben\n",
      "sami\n",
      "paypay\n",
      "mrah\n",
      "['ben', 'sami', 'paypay', 'mrah', 'josep']\n",
      "ben\n",
      "sami\n",
      "paypay\n",
      "mrah\n",
      "josep\n"
     ]
    }
   ],
   "source": [
    " #lists\n",
    "student1name = 'aaron'\n",
    "student1age = 29\n",
    "student1gpa = 3.5\n",
    "\n",
    "student2name = 'sami'\n",
    "\n",
    "studentnames = ['ben', 'sami', 'paypay', 'mrah']\n",
    "print(studentnames)\n",
    "print(studentnames[1])\n",
    "#looping through, will print names vertically\n",
    "\n",
    "for name in studentnames:\n",
    "    print(name)\n",
    "    \n",
    "studentnames.append('josep')\n",
    "print(studentnames)\n",
    "for name in studentnames:\n",
    "    print(name)"
   ]
  },
  {
   "cell_type": "code",
   "execution_count": 74,
   "id": "ee42c61b",
   "metadata": {},
   "outputs": [
    {
     "name": "stdout",
     "output_type": "stream",
     "text": [
      "travis\n"
     ]
    }
   ],
   "source": [
    "Stuple = ('karen', 'travis', 'shaq')\n",
    "print(Stuple[1])"
   ]
  },
  {
   "cell_type": "code",
   "execution_count": 77,
   "id": "d29acdbb",
   "metadata": {},
   "outputs": [
    {
     "name": "stdout",
     "output_type": "stream",
     "text": [
      "{'jenna', 'mike', 'molly'}\n",
      "jenna\n",
      "mike\n",
      "molly\n"
     ]
    }
   ],
   "source": [
    "Sset = {'mike', 'jenna', 'molly'}\n",
    "print(Sset)\n",
    "for name in Sset:\n",
    "    print(name)"
   ]
  },
  {
   "cell_type": "code",
   "execution_count": 136,
   "id": "28be71c7",
   "metadata": {},
   "outputs": [
    {
     "ename": "SyntaxError",
     "evalue": "invalid syntax (<ipython-input-136-66e4496c5412>, line 43)",
     "output_type": "error",
     "traceback": [
      "\u001b[0;36m  File \u001b[0;32m\"<ipython-input-136-66e4496c5412>\"\u001b[0;36m, line \u001b[0;32m43\u001b[0m\n\u001b[0;31m    values = line.split(,)\u001b[0m\n\u001b[0m                        ^\u001b[0m\n\u001b[0;31mSyntaxError\u001b[0m\u001b[0;31m:\u001b[0m invalid syntax\n"
     ]
    }
   ],
   "source": [
    "Sgrades = {\"ben\": 92, \"diane\": 98, \"sami\": 89 }\n",
    "print(Sgrades[\"diane\"])\n",
    "print(Sgrades[\"sami\"])\n",
    "\n",
    "#referencing items\n",
    "\n",
    "mycars = ({\"make\": \"ford\", \"model\": \"F-Type\", \"year\": 2031, 'color': (\"blue\", \"gray\")},\n",
    "    {\"make\": \"chevy\", \"model\": \"silverado\", \"year\": 2021})\n",
    "print(mycars[0]['color'][1])\n",
    "\n",
    "\n",
    "#for item in Sgrades:\n",
    " #   print(Sgrades[item])\n",
    "if 92 in Sgrades:\n",
    "    print(\"weird\")\n",
    "    \n",
    "if 92 in Sgrades.values():\n",
    "    print(\"it is!\")\n",
    "    \n",
    "values = Sgrades.values()\n",
    "valueslist = list(values)\n",
    "\n",
    "#print(valueslist[0])\n",
    "\n",
    "keys = Sgrades.keys()\n",
    "keyslist = list(keys)\n",
    "#print(keyslist)\n",
    "\n",
    "for i in range(0,len(values)):\n",
    "    print(Sgrades[keyslist[i]])\n",
    "    \n",
    "items = Sgrades.items()\n",
    "print(items)\n",
    "itemslist = list(items)\n",
    "print(itemslist[0])\n",
    "import fileinput\n",
    "\n",
    "\n",
    "Studentgrades = {}\n",
    "\n",
    "\n",
    "for line in fileinput.input():\n",
    "    values = line.split(,)\n",
    "    Studentsgrades.update({[0] : values[1]})\n",
    "    \n",
    "print(Studentsgrade)"
   ]
  },
  {
   "cell_type": "code",
   "execution_count": 133,
   "id": "aa2cc4e2",
   "metadata": {},
   "outputs": [
    {
     "ename": "SyntaxError",
     "evalue": "invalid syntax (<ipython-input-133-65e17c60e223>, line 6)",
     "output_type": "error",
     "traceback": [
      "\u001b[0;36m  File \u001b[0;32m\"<ipython-input-133-65e17c60e223>\"\u001b[0;36m, line \u001b[0;32m6\u001b[0m\n\u001b[0;31m    values = line.split(*,*)\u001b[0m\n\u001b[0m                         ^\u001b[0m\n\u001b[0;31mSyntaxError\u001b[0m\u001b[0;31m:\u001b[0m invalid syntax\n"
     ]
    }
   ],
   "source": [
    "import fileinput\n",
    "Sgrades = {}\n",
    "\n",
    "\n",
    "for line in fileinput.input():\n",
    "    values = line.split(*,*)\n",
    "    Sgrades.update({[0] : values[1]})\n",
    "    \n",
    "print(Sgrade)"
   ]
  },
  {
   "cell_type": "code",
   "execution_count": null,
   "id": "1a807c3a",
   "metadata": {},
   "outputs": [],
   "source": []
  }
 ],
 "metadata": {
  "kernelspec": {
   "display_name": "Python 3",
   "language": "python",
   "name": "python3"
  },
  "language_info": {
   "codemirror_mode": {
    "name": "ipython",
    "version": 3
   },
   "file_extension": ".py",
   "mimetype": "text/x-python",
   "name": "python",
   "nbconvert_exporter": "python",
   "pygments_lexer": "ipython3",
   "version": "3.8.8"
  }
 },
 "nbformat": 4,
 "nbformat_minor": 5
}
